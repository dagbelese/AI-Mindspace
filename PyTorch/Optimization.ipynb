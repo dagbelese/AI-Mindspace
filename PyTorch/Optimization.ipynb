{
 "cells": [
  {
   "cell_type": "markdown",
   "metadata": {},
   "source": [
    "## Optimizing Model Parameters"
   ]
  },
  {
   "cell_type": "code",
   "execution_count": 1,
   "metadata": {},
   "outputs": [],
   "source": [
    "import torch\n",
    "from torch import nn\n",
    "from torch.utils.data import DataLoader\n",
    "from torchvision import datasets\n",
    "from torchvision.transforms import ToTensor"
   ]
  },
  {
   "cell_type": "code",
   "execution_count": 2,
   "metadata": {},
   "outputs": [
    {
     "name": "stdout",
     "output_type": "stream",
     "text": [
      "Using device: mps\n"
     ]
    },
    {
     "data": {
      "text/plain": [
       "NeuralNetwork(\n",
       "  (flatten): Flatten(start_dim=1, end_dim=-1)\n",
       "  (linear_relu_stack): Sequential(\n",
       "    (0): Linear(in_features=784, out_features=512, bias=True)\n",
       "    (1): ReLU()\n",
       "    (2): Linear(in_features=512, out_features=512, bias=True)\n",
       "    (3): ReLU()\n",
       "    (4): Linear(in_features=512, out_features=10, bias=True)\n",
       "  )\n",
       ")"
      ]
     },
     "execution_count": 2,
     "metadata": {},
     "output_type": "execute_result"
    }
   ],
   "source": [
    "training_data = datasets.FashionMNIST(\n",
    "    root=\"data\",\n",
    "    train=True,\n",
    "    download=True,\n",
    "    transform=ToTensor()\n",
    ")\n",
    "\n",
    "test_data = datasets.FashionMNIST(\n",
    "    root=\"data\",\n",
    "    train=False,\n",
    "    download=True,\n",
    "    transform=ToTensor()\n",
    ")\n",
    "\n",
    "train_dataloader = DataLoader(training_data, batch_size=64)\n",
    "test_dataloader = DataLoader(test_data, batch_size=64)\n",
    "\n",
    "class NeuralNetwork(nn.Module):\n",
    "    def __init__(self):\n",
    "        super().__init__()\n",
    "        self.flatten = nn.Flatten()\n",
    "        self.linear_relu_stack = nn.Sequential(\n",
    "            nn.Linear(28*28, 512),\n",
    "            nn.ReLU(),\n",
    "            nn.Linear(512, 512),\n",
    "            nn.ReLU(),\n",
    "            nn.Linear(512, 10),\n",
    "        )\n",
    "\n",
    "    def forward(self, x):\n",
    "        x = self.flatten(x)\n",
    "        logits = self.linear_relu_stack(x)\n",
    "        return logits\n",
    "    \n",
    "model = NeuralNetwork()\n",
    "\n",
    "device = torch.device(\"mps\" if torch.backends.mps.is_available() else \"cpu\")\n",
    "print(f\"Using device: {device}\")\n",
    "\n",
    "# Move model to available device\n",
    "model.to(device)"
   ]
  },
  {
   "cell_type": "code",
   "execution_count": 3,
   "metadata": {},
   "outputs": [],
   "source": [
    "learning_rate = 1e-3\n",
    "batch_size = 64\n",
    "epochs = 5"
   ]
  },
  {
   "cell_type": "code",
   "execution_count": 4,
   "metadata": {},
   "outputs": [],
   "source": [
    "# Initialize loss function\n",
    "loss_fn = nn.CrossEntropyLoss()"
   ]
  },
  {
   "cell_type": "code",
   "execution_count": 5,
   "metadata": {},
   "outputs": [],
   "source": [
    "optimizer = torch.optim.SGD(model.parameters(), lr=learning_rate)"
   ]
  },
  {
   "cell_type": "code",
   "execution_count": 6,
   "metadata": {},
   "outputs": [],
   "source": [
    "def train_loop(dataloader, model, loss_fn, optimizer, device):\n",
    "    size = len(dataloader.dataset)\n",
    "    # Set model to training mode - important for batch normalization and dropout layers\n",
    "    # Unnecessary in this situation but added for best practices\n",
    "    model.train()\n",
    "    for batch, (X, y) in enumerate(dataloader):\n",
    "        # Move data to device\n",
    "        X, y = X.to(device), y.to(device)\n",
    "        # Compute prediction and loss\n",
    "        pred = model(X)\n",
    "        loss = loss_fn(pred, y)\n",
    "\n",
    "        # Backpropagation\n",
    "        loss.backward()\n",
    "        optimizer.step()\n",
    "        optimizer.zero_grad()\n",
    "\n",
    "        if batch % 100 == 0:\n",
    "            loss, current = loss.item(), batch * batch_size + len(X)\n",
    "            print(f\"loss: {loss:>7f} [{current:>5d} | {size:>5d}]\")\n",
    "\n",
    "def test_loop(dataloader, model, loss_fn, device):\n",
    "    # Set model to evaluation mode - important for batch normalization and dropout layers\n",
    "    # Unnecessary in this situation but added for best practices\n",
    "    model.eval()\n",
    "    size = len(dataloader.dataset)\n",
    "    num_batches = len(dataloader)\n",
    "    test_loss, correct = 0, 0\n",
    "\n",
    "    # Evaluating model with torch.no_grad() ensures that no gradients are computed during test mode\n",
    "    # Also serves to reduce unnecessary gradient computations and memory usage for tensors with requires_grad=True\n",
    "    with torch.no_grad():\n",
    "        for X, y in dataloader:\n",
    "            # Move data to device\n",
    "            X, y = X.to(device), y.to(device)\n",
    "            pred = model(X)\n",
    "            test_loss += loss_fn(pred, y).item()\n",
    "            correct += (pred.argmax(1) == y).type(torch.float).sum().item()\n",
    "\n",
    "    test_loss /= num_batches\n",
    "    correct /= size\n",
    "    print(f\"Test Error: \\n Accuracy: {(100*correct):>0.1f}%, Avg loss: {test_loss:>8f} \\n\")"
   ]
  },
  {
   "cell_type": "code",
   "execution_count": 7,
   "metadata": {},
   "outputs": [
    {
     "name": "stdout",
     "output_type": "stream",
     "text": [
      "Epoch 1 \n",
      "--------------------\n",
      "loss: 2.326514 [   64 | 60000]\n",
      "loss: 2.302029 [ 6464 | 60000]\n",
      "loss: 2.281895 [12864 | 60000]\n",
      "loss: 2.264354 [19264 | 60000]\n",
      "loss: 2.251766 [25664 | 60000]\n",
      "loss: 2.231588 [32064 | 60000]\n",
      "loss: 2.238654 [38464 | 60000]\n",
      "loss: 2.207314 [44864 | 60000]\n",
      "loss: 2.198253 [51264 | 60000]\n",
      "loss: 2.163849 [57664 | 60000]\n",
      "Test Error: \n",
      " Accuracy: 42.6%, Avg loss: 2.161832 \n",
      "\n",
      "Epoch 2 \n",
      "--------------------\n",
      "loss: 2.183395 [   64 | 60000]\n",
      "loss: 2.158848 [ 6464 | 60000]\n",
      "loss: 2.105554 [12864 | 60000]\n",
      "loss: 2.115267 [19264 | 60000]\n",
      "loss: 2.067223 [25664 | 60000]\n",
      "loss: 2.019543 [32064 | 60000]\n",
      "loss: 2.046306 [38464 | 60000]\n",
      "loss: 1.966715 [44864 | 60000]\n",
      "loss: 1.964195 [51264 | 60000]\n",
      "loss: 1.902733 [57664 | 60000]\n",
      "Test Error: \n",
      " Accuracy: 53.8%, Avg loss: 1.897734 \n",
      "\n",
      "Epoch 3 \n",
      "--------------------\n",
      "loss: 1.937932 [   64 | 60000]\n",
      "loss: 1.893978 [ 6464 | 60000]\n",
      "loss: 1.783830 [12864 | 60000]\n",
      "loss: 1.821845 [19264 | 60000]\n",
      "loss: 1.717768 [25664 | 60000]\n",
      "loss: 1.674977 [32064 | 60000]\n",
      "loss: 1.696286 [38464 | 60000]\n",
      "loss: 1.594439 [44864 | 60000]\n",
      "loss: 1.616110 [51264 | 60000]\n",
      "loss: 1.518988 [57664 | 60000]\n",
      "Test Error: \n",
      " Accuracy: 61.0%, Avg loss: 1.534131 \n",
      "\n",
      "Epoch 4 \n",
      "--------------------\n",
      "loss: 1.606858 [   64 | 60000]\n",
      "loss: 1.558806 [ 6464 | 60000]\n",
      "loss: 1.418427 [12864 | 60000]\n",
      "loss: 1.486815 [19264 | 60000]\n",
      "loss: 1.368944 [25664 | 60000]\n",
      "loss: 1.369857 [32064 | 60000]\n",
      "loss: 1.377511 [38464 | 60000]\n",
      "loss: 1.302598 [44864 | 60000]\n",
      "loss: 1.334644 [51264 | 60000]\n",
      "loss: 1.235740 [57664 | 60000]\n",
      "Test Error: \n",
      " Accuracy: 62.9%, Avg loss: 1.264799 \n",
      "\n",
      "Epoch 5 \n",
      "--------------------\n",
      "loss: 1.347647 [   64 | 60000]\n",
      "loss: 1.317674 [ 6464 | 60000]\n",
      "loss: 1.162249 [12864 | 60000]\n",
      "loss: 1.262749 [19264 | 60000]\n",
      "loss: 1.136644 [25664 | 60000]\n",
      "loss: 1.168787 [32064 | 60000]\n",
      "loss: 1.179286 [38464 | 60000]\n",
      "loss: 1.121168 [44864 | 60000]\n",
      "loss: 1.157133 [51264 | 60000]\n",
      "loss: 1.068541 [57664 | 60000]\n",
      "Test Error: \n",
      " Accuracy: 64.0%, Avg loss: 1.095734 \n",
      "\n",
      "Done!\n"
     ]
    }
   ],
   "source": [
    "for t in range(epochs):\n",
    "    print(f\"Epoch {t+1} \\n--------------------\")\n",
    "    train_loop(train_dataloader, model, loss_fn, optimizer, device)\n",
    "    test_loop(test_dataloader, model, loss_fn, device)\n",
    "print(\"Done!\")"
   ]
  }
 ],
 "metadata": {
  "kernelspec": {
   "display_name": "ai-mindspace",
   "language": "python",
   "name": "python3"
  },
  "language_info": {
   "codemirror_mode": {
    "name": "ipython",
    "version": 3
   },
   "file_extension": ".py",
   "mimetype": "text/x-python",
   "name": "python",
   "nbconvert_exporter": "python",
   "pygments_lexer": "ipython3",
   "version": "3.10.13"
  }
 },
 "nbformat": 4,
 "nbformat_minor": 2
}
